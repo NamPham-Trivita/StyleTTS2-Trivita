{
 "cells": [
  {
   "cell_type": "code",
   "id": "initial_id",
   "metadata": {
    "collapsed": true,
    "ExecuteTime": {
     "end_time": "2025-10-21T02:43:21.909234Z",
     "start_time": "2025-10-21T02:42:14.471935Z"
    }
   },
   "source": [
    "import sys\n",
    "\n",
    "from viphoneme import vi2IPA\n",
    "vi2IPA(\"xin chào\")"
   ],
   "outputs": [
    {
     "data": {
      "text/plain": [
       "'sin1 caw2'"
      ]
     },
     "execution_count": 1,
     "metadata": {},
     "output_type": "execute_result"
    }
   ],
   "execution_count": 1
  },
  {
   "metadata": {
    "ExecuteTime": {
     "end_time": "2025-05-02T00:44:06.326843Z",
     "start_time": "2025-05-02T00:44:06.306632Z"
    }
   },
   "cell_type": "code",
   "source": [
    "import os\n",
    "environment_variables = os.environ\n",
    "\n",
    "print(\"------ Tất cả các biến môi trường ------\")\n",
    "for key, value in environment_variables.items():\n",
    "    print(f\"{key}: {value}\")"
   ],
   "id": "4276582dc2100371",
   "outputs": [
    {
     "name": "stdout",
     "output_type": "stream",
     "text": [
      "------ Tất cả các biến môi trường ------\n",
      "ALLUSERSPROFILE: C:\\ProgramData\n",
      "APPCODE_VM_OPTIONS: C:\\ja-netfilter-all\\vmoptions\\appcode.vmoptions\n",
      "APPDATA: C:\\Users\\Admin\\AppData\\Roaming\n",
      "CLION_VM_OPTIONS: C:\\ja-netfilter-all\\vmoptions\\clion.vmoptions\n",
      "COMMONPROGRAMFILES: C:\\Program Files\\Common Files\n",
      "COMMONPROGRAMFILES(X86): C:\\Program Files (x86)\\Common Files\n",
      "COMMONPROGRAMW6432: C:\\Program Files\\Common Files\n",
      "COMPUTERNAME: DESKTOP-8RNF1SL\n",
      "COMSPEC: C:\\Windows\\system32\\cmd.exe\n",
      "CUDA_PATH: C:\\Program Files\\NVIDIA GPU Computing Toolkit\\CUDA\\v12.1\n",
      "CUDA_PATH_V12_1: C:\\Program Files\\NVIDIA GPU Computing Toolkit\\CUDA\\v12.1\n",
      "DATAGRIP_VM_OPTIONS: C:\\ja-netfilter-all\\vmoptions\\datagrip.vmoptions\n",
      "DATASPELL_VM_OPTIONS: C:\\ja-netfilter-all\\vmoptions\\dataspell.vmoptions\n",
      "DEVECOSTUDIO_VM_OPTIONS: C:\\ja-netfilter-all\\vmoptions\\devecostudio.vmoptions\n",
      "DRIVERDATA: C:\\Windows\\System32\\Drivers\\DriverData\n",
      "FFMPEG: C:\\Program Files\\ffmpeg\\bin\\bin\n",
      "GATEWAY_VM_OPTIONS: C:\\ja-netfilter-all\\vmoptions\\gateway.vmoptions\n",
      "GOLAND_VM_OPTIONS: C:\\ja-netfilter-all\\vmoptions\\goland.vmoptions\n",
      "HOMEDRIVE: C:\n",
      "HOMEPATH: \\Users\\Admin\n",
      "IDEA_INITIAL_DIRECTORY: C:\\Program Files\\JetBrains\\PyCharm 2024.1\\bin\n",
      "IDEA_VM_OPTIONS: C:\\ja-netfilter-all\\vmoptions\\idea.vmoptions\n",
      "INTELLIJ IDEA: C:\\Program Files\\JetBrains\\IntelliJ IDEA 2024.1\\bin;\n",
      "JETBRAINSCLIENT_VM_OPTIONS: C:\\ja-netfilter-all\\vmoptions\\jetbrainsclient.vmoptions\n",
      "JETBRAINS_CLIENT_VM_OPTIONS: C:\\ja-netfilter-all\\vmoptions\\jetbrains_client.vmoptions\n",
      "LANG: en_US.UTF-8\n",
      "LANGUAGE: \n",
      "LC_ALL: en_US.UTF-8\n",
      "LOCALAPPDATA: C:\\Users\\Admin\\AppData\\Local\n",
      "LOGONSERVER: \\\\DESKTOP-8RNF1SL\n",
      "MOZ_PLUGIN_PATH: C:\\Program Files (x86)\\Foxit Software\\Foxit PDF Reader\\plugins\\\n",
      "NUMBER_OF_PROCESSORS: 8\n",
      "NVM_HOME: C:\\Users\\Admin\\AppData\\Local\\nvm\n",
      "NVM_SYMLINK: C:\\nvm4w\\nodejs\n",
      "ONEDRIVE: C:\\Users\\Administrator\\OneDrive\n",
      "OS: Windows_NT\n",
      "PATH: E:\\AI\\Kokoro\\venv\\Scripts;C:\\Program Files\\NVIDIA GPU Computing Toolkit\\CUDA\\v12.1\\bin;C:\\Program Files\\NVIDIA GPU Computing Toolkit\\CUDA\\v12.1\\libnvvp;C:\\Program Files\\ffmpeg\\bin;C:\\Windows\\system32;C:\\Windows;C:\\Windows\\System32\\Wbem;C:\\Windows\\System32\\WindowsPowerShell\\v1.0\\;C:\\Windows\\System32\\OpenSSH\\;C:\\Users\\Admin\\AppData\\Local\\Microsoft\\WindowsApps;C:\\Program Files\\JetBrains\\PyCharm 2024.1\\bin;C:\\Program Files (x86)\\Windows Kits\\10\\Windows Performance Toolkit\\;C:\\Program Files\\Git\\cmd;C:\\Program Files\\NVIDIA Corporation\\Nsight Compute 2023.1.0\\;C:\\Program Files (x86)\\NVIDIA Corporation\\PhysX\\Common;C:\\Program Files\\NVIDIA Corporation\\NVIDIA NvDLISR;C:\\Users\\Admin\\AppData\\Local\\nvm;C:\\nvm4w\\nodejs;C:\\Program Files\\eSpeak NG\\;C:\\Users\\Admin\\AppData\\Local\\Microsoft\\WindowsApps;C:\\Program Files\\JetBrains\\PyCharm 2024.1\\bin;;C:\\Users\\Admin\\AppData\\Local\\Programs\\Microsoft VS Code\\bin;C:\\Program Files\\JetBrains\\IntelliJ IDEA 2024.1\\bin;;C:\\Users\\Admin\\AppData\\Local\\nvm;C:\\nvm4w\\nodejs\n",
      "PATHEXT: .COM;.EXE;.BAT;.CMD;.VBS;.VBE;.JS;.JSE;.WSF;.WSH;.MSC\n",
      "PHONEMIZER_ESPEAK_LIBRARY: C:\\Program Files\\eSpeak NG\\libespeak-ng.dll\n",
      "PHPSTORM_VM_OPTIONS: C:\\ja-netfilter-all\\vmoptions\\phpstorm.vmoptions\n",
      "PROCESSOR_ARCHITECTURE: AMD64\n",
      "PROCESSOR_IDENTIFIER: Intel64 Family 6 Model 158 Stepping 9, GenuineIntel\n",
      "PROCESSOR_LEVEL: 6\n",
      "PROCESSOR_REVISION: 9e09\n",
      "PROGRAMDATA: C:\\ProgramData\n",
      "PROGRAMFILES: C:\\Program Files\n",
      "PROGRAMFILES(X86): C:\\Program Files (x86)\n",
      "PROGRAMW6432: C:\\Program Files\n",
      "PROMPT: (venv) $P$G\n",
      "PSMODULEPATH: C:\\Program Files\\WindowsPowerShell\\Modules;C:\\Windows\\system32\\WindowsPowerShell\\v1.0\\Modules\n",
      "PUBLIC: C:\\Users\\Public\n",
      "PYCHARM: C:\\Program Files\\JetBrains\\PyCharm 2024.1\\bin;\n",
      "PYCHARM_VM_OPTIONS: C:\\ja-netfilter-all\\vmoptions\\pycharm.vmoptions\n",
      "PYTHONPATH: E:\\AI\\VietCastTTS\n",
      "RIDER_VM_OPTIONS: C:\\ja-netfilter-all\\vmoptions\\rider.vmoptions\n",
      "RUBYMINE_VM_OPTIONS: C:\\ja-netfilter-all\\vmoptions\\rubymine.vmoptions\n",
      "SESSIONNAME: Console\n",
      "STUDIO_VM_OPTIONS: C:\\ja-netfilter-all\\vmoptions\\studio.vmoptions\n",
      "SYSTEMDRIVE: C:\n",
      "SYSTEMROOT: C:\\Windows\n",
      "TEMP: C:\\Users\\Admin\\AppData\\Local\\Temp\n",
      "TMP: C:\\Users\\Admin\\AppData\\Local\\Temp\n",
      "USERDOMAIN: DESKTOP-8RNF1SL\n",
      "USERDOMAIN_ROAMINGPROFILE: DESKTOP-8RNF1SL\n",
      "USERNAME: Admin\n",
      "USERPROFILE: C:\\Users\\Admin\n",
      "VIRTUAL_ENV: E:\\AI\\Kokoro\\venv\n",
      "WEBIDE_VM_OPTIONS: C:\\ja-netfilter-all\\vmoptions\\webide.vmoptions\n",
      "WEBSTORM_VM_OPTIONS: C:\\ja-netfilter-all\\vmoptions\\webstorm.vmoptions\n",
      "WINDIR: C:\\Windows\n",
      "ZES_ENABLE_SYSMAN: 1\n",
      "_OLD_VIRTUAL_PATH: C:\\Program Files\\NVIDIA GPU Computing Toolkit\\CUDA\\v12.1\\bin;C:\\Program Files\\NVIDIA GPU Computing Toolkit\\CUDA\\v12.1\\libnvvp;C:\\Program Files\\ffmpeg\\bin;C:\\Windows\\system32;C:\\Windows;C:\\Windows\\System32\\Wbem;C:\\Windows\\System32\\WindowsPowerShell\\v1.0\\;C:\\Windows\\System32\\OpenSSH\\;C:\\Users\\Admin\\AppData\\Local\\Microsoft\\WindowsApps;C:\\Program Files\\JetBrains\\PyCharm 2024.1\\bin;C:\\Program Files (x86)\\Windows Kits\\10\\Windows Performance Toolkit\\;C:\\Program Files\\Git\\cmd;C:\\Program Files\\NVIDIA Corporation\\Nsight Compute 2023.1.0\\;C:\\Program Files (x86)\\NVIDIA Corporation\\PhysX\\Common;C:\\Program Files\\NVIDIA Corporation\\NVIDIA NvDLISR;C:\\Users\\Admin\\AppData\\Local\\nvm;C:\\nvm4w\\nodejs;C:\\Program Files\\eSpeak NG\\;C:\\Users\\Admin\\AppData\\Local\\Microsoft\\WindowsApps;C:\\Program Files\\JetBrains\\PyCharm 2024.1\\bin;;C:\\Users\\Admin\\AppData\\Local\\Programs\\Microsoft VS Code\\bin;C:\\Program Files\\JetBrains\\IntelliJ IDEA 2024.1\\bin;;C:\\Users\\Admin\\AppData\\Local\\nvm;C:\\nvm4w\\nodejs\n",
      "_OLD_VIRTUAL_PROMPT: $P$G\n",
      "JPY_SESSION_NAME: viphoneme/testViphoneme.ipynb\n",
      "JPY_INTERRUPT_EVENT: 1700\n",
      "IPY_INTERRUPT_EVENT: 1700\n",
      "JPY_PARENT_PID: 1744\n",
      "PYDEVD_USE_FRAME_EVAL: NO\n",
      "TERM: xterm-color\n",
      "CLICOLOR: 1\n",
      "FORCE_COLOR: 1\n",
      "CLICOLOR_FORCE: 1\n",
      "PAGER: cat\n",
      "GIT_PAGER: cat\n",
      "MPLBACKEND: module://matplotlib_inline.backend_inline\n"
     ]
    }
   ],
   "execution_count": 1
  },
  {
   "metadata": {
    "ExecuteTime": {
     "end_time": "2025-05-02T11:30:20.615896Z",
     "start_time": "2025-05-02T11:30:18.239260Z"
    }
   },
   "cell_type": "code",
   "source": [
    "# import os\n",
    "# os.environ['PHONEMIZER_ESPEAK_LIBRARY'] = \"C:\\Program Files\\eSpeak NG\\libespeak-ng.dll\"\n",
    "from phonemizer.backend import EspeakBackend\n",
    "global_phonemizer_espeak = EspeakBackend(\n",
    "        language='en-us',           # Ngôn ngữ cố định\n",
    "        preserve_punctuation=True,  # Giữ dấu câu\n",
    "        with_stress=True            # Bao gồm dấu nhấn\n",
    "        \n",
    "    )"
   ],
   "id": "5d7d720ca448c8ef",
   "outputs": [],
   "execution_count": 4
  },
  {
   "metadata": {
    "ExecuteTime": {
     "end_time": "2025-05-02T11:33:44.709371Z",
     "start_time": "2025-05-02T11:33:44.693841Z"
    }
   },
   "cell_type": "code",
   "source": [
    "espeak_ipa = global_phonemizer_espeak.phonemize(\n",
    "                                [\"Nestlé\"], # truyền trực tiếp từ (không cần list)\n",
    "                                njobs=1 #  có thể dùng ở đây (nhưng không cần thiết)\n",
    "                            )\n"
   ],
   "id": "202dc28dcbad22fe",
   "outputs": [],
   "execution_count": 7
  },
  {
   "metadata": {
    "ExecuteTime": {
     "end_time": "2025-05-02T11:33:46.809753Z",
     "start_time": "2025-05-02T11:33:46.794130Z"
    }
   },
   "cell_type": "code",
   "source": "espeak_ipa[0].strip()",
   "id": "e755eaf2cf85534",
   "outputs": [
    {
     "data": {
      "text/plain": [
       "'nɛslˈeɪ'"
      ]
     },
     "execution_count": 8,
     "metadata": {},
     "output_type": "execute_result"
    }
   ],
   "execution_count": 8
  },
  {
   "metadata": {},
   "cell_type": "code",
   "outputs": [],
   "execution_count": null,
   "source": "",
   "id": "2a85809f324f8ee8"
  }
 ],
 "metadata": {
  "kernelspec": {
   "display_name": "Python 3",
   "language": "python",
   "name": "python3"
  },
  "language_info": {
   "codemirror_mode": {
    "name": "ipython",
    "version": 2
   },
   "file_extension": ".py",
   "mimetype": "text/x-python",
   "name": "python",
   "nbconvert_exporter": "python",
   "pygments_lexer": "ipython2",
   "version": "2.7.6"
  }
 },
 "nbformat": 4,
 "nbformat_minor": 5
}
